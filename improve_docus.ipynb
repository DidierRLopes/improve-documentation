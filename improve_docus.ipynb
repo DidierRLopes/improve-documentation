{
 "cells": [
  {
   "cell_type": "code",
   "execution_count": 1,
   "metadata": {},
   "outputs": [],
   "source": [
    "import os\n",
    "import re\n",
    "import openai"
   ]
  },
  {
   "cell_type": "code",
   "execution_count": null,
   "metadata": {},
   "outputs": [],
   "source": [
    "openai.api_key =\"MY_API_KEY\""
   ]
  },
  {
   "cell_type": "code",
   "execution_count": 74,
   "metadata": {},
   "outputs": [
    {
     "name": "stdout",
     "output_type": "stream",
     "text": [
      "This command retrieves the last 15 darkpool trades for the specified ticker symbol. The data retrieved includes information such as the time of the trade, the price of the trade, the side of the trade (bid or ask), and the size of the trade. This command can be used to gain insight into the darkpool trading activity of a given security.\n"
     ]
    }
   ],
   "source": [
    "# Calibrate - allows to understand if result is reasonable\n",
    "\n",
    "prompt = \"Context: You are a developer writing a detailed documentation for a function that allows the user to retrieve 'Last 15 Darkpool Trades utilizing the command `/dp alldp ticker`. How would you write a clear description for this command.\"\n",
    "\n",
    "# The /dp alldp ticker command is a function that allows the user to retrieve the last 15 Darkpool Trades for a given ticker symbol. Darkpool trades are executed off-exchange, meaning they are not visible to the general public until after the trade has been completed. This command retrieves the most recent 15 trades for the given ticker symbol, providing the user with valuable information about the price and volume of trades executed off-exchange. This function can be used to gain insights into market sentiment and potentially inform trading strategies.\n",
    "\n",
    "model_engine = \"text-davinci-003\"\n",
    "\n",
    "response = openai.Completion.create(engine=model_engine, prompt=prompt, temperature=0.7, max_tokens=1024)\n",
    "\n",
    "text = response.choices[0].text.strip()\n",
    "print(text)"
   ]
  },
  {
   "cell_type": "code",
   "execution_count": 85,
   "metadata": {},
   "outputs": [
    {
     "name": "stdout",
     "output_type": "stream",
     "text": [
      "./options/stats.md\n",
      "/op stats ticker:AMC\n",
      "./crypto/bigprints.md\n",
      "/crypto bigprints coin:BTC-USD\n",
      "./economy/commodities.md\n",
      "/econ commodities\n",
      "./pop/index.mdx\n",
      "./pop/1hr.md\n",
      "/pop 1hr\n",
      "./government/contracts.md\n",
      "/gov contracts ticker:GE\n",
      "./duedilligence/splits.md\n",
      "/dd splits ticker:AMD\n",
      "./screeners/index.mdx\n",
      "./screeners/ah.md\n",
      "/scr ah signal:After-Hours Top Gainers\n",
      "./nft/collection.md\n",
      "/nft collection slug: bent\n",
      "./general/heatchart.md\n",
      "/heatchart\n",
      "./index.mdx\n",
      "./_category_.json\n",
      "./discovery/splits.md\n",
      "/disc splits\n",
      "./charts/cw.md\n",
      "/cw ticker:AMD\n",
      "./fun/flip.md\n",
      "/fun flip\n",
      "./autopost/index.mdx\n",
      "./autopost/add.md\n",
      "/autopost add\n",
      "./improve_docus.ipynb\n",
      "./alerts/index.mdx\n",
      "./alerts/list.md\n",
      "/alerts list\n",
      "./info/stats.md\n",
      "/info stats\n",
      "./short_data/borrowed.md\n",
      "/sh borrowed ticker:AMD\n",
      "./darkpool/allblocks.md\n",
      "/dp topsum\n",
      "./flow/prem.md\n",
      "/flow prem ticker:AMD\n"
     ]
    }
   ],
   "source": [
    "def iterate_files_and_improve_documentation(folder_path):\n",
    "    # Iterate through all files in the folder\n",
    "    for filename in os.listdir(folder_path):\n",
    "        file_path = os.path.join(folder_path, filename)\n",
    "        if os.path.isfile(file_path):\n",
    "            # This allows to see if the location is correct\n",
    "            print(file_path)\n",
    "\n",
    "            # Check if the file is a markdown file\n",
    "            if not filename.endswith(\".md\"):\n",
    "                continue\n",
    "\n",
    "            # Open the file in read mode\n",
    "            with open(file_path, 'r+') as file:\n",
    "                # Read the contents of the file\n",
    "                file_contents = file.read()\n",
    "\n",
    "                # Use regex to find our simple description\n",
    "                cmd = filename.split(\".\")[0]\n",
    "\n",
    "                start = f\"# {cmd}\\n\"\n",
    "                end = \"### Usage\"\n",
    "            \n",
    "                match = re.search(rf\"{start}(.*?)\\n{end}\", file_contents, re.DOTALL)\n",
    "\n",
    "                # If there is match, get description\n",
    "                if match:\n",
    "                    desc = match.group(1).replace(\"\\n\", \"\") # Remove newlines\n",
    "\n",
    "                    # Use regex to find our example\n",
    "                    start = \"```\"\n",
    "                    end = \"```\"\n",
    "\n",
    "                    matches = re.findall(rf\"{start}(.*?){end}\", file_contents, re.DOTALL)\n",
    "\n",
    "                    # If there is match, get example\n",
    "                    if matches:\n",
    "                        # In our case the first match is a template, the second is the example\n",
    "                        example = matches[1].replace(\"\\n\", \"\") # Remove newlines\n",
    "\n",
    "                        # Use our prompt template for a more accurate description\n",
    "                        prompt = f\"Context: You are a developer writing a detailed documentation for a function that allows the user to retrieve {desc} utilizing the command {example} how would you explain what this command does in a single paragraph\"\n",
    "\n",
    "                        # Call OpenAI API\n",
    "                        response = openai.Completion.create(engine=model_engine, prompt=prompt, temperature=0.7, max_tokens=1024)\n",
    "                        if response:\n",
    "                            improved_desc = response.choices[0].text.strip()\n",
    "\n",
    "                            # Replace the old description with the improved one\n",
    "                            file_contents = file_contents.replace(desc, improved_desc)\n",
    "\n",
    "            # Open the file in write mode\n",
    "            with open(file_path, 'w') as file:\n",
    "                file.write(file_contents)\n",
    "            \n",
    "        elif os.path.isdir(file_path):\n",
    "            # Recursively call this function on the subfolder\n",
    "            iterate_files_and_improve_documentation(file_path)\n",
    "\n",
    "# Call the function on the main folder\n",
    "folder_path = \".\" # Current folder\n",
    "iterate_files_and_improve_documentation(folder_path)"
   ]
  },
  {
   "cell_type": "code",
   "execution_count": null,
   "metadata": {},
   "outputs": [],
   "source": []
  }
 ],
 "metadata": {
  "kernelspec": {
   "display_name": "charts",
   "language": "python",
   "name": "python3"
  },
  "language_info": {
   "codemirror_mode": {
    "name": "ipython",
    "version": 3
   },
   "file_extension": ".py",
   "mimetype": "text/x-python",
   "name": "python",
   "nbconvert_exporter": "python",
   "pygments_lexer": "ipython3",
   "version": "3.11.0"
  },
  "orig_nbformat": 4
 },
 "nbformat": 4,
 "nbformat_minor": 2
}
